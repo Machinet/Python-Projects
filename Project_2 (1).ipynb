{
 "cells": [
  {
   "cell_type": "markdown",
   "metadata": {
    "collapsed": false
   },
   "source": [
    "## 1: Study  of ``still`` ``lifes`` and ``oscillators``:  [5 marks]\n",
    "\n",
    "For the following shapes from the data folder:\n",
    "- Loaf (\"data/Loaf.txt\")\n",
    "- Pulsar (\"data/Pulsar.txt\")\n",
    "- Pentadecathlon (\"data/Pentadecathlon.txt\")\n",
    "\n",
    "Find the number of live cells and the $r_{max}$  as a function of time (number of steps).<br>\n",
    "\n",
    "Can you determine the period of the above 3 shapes from these plots?<br>\n",
    "Hint: One does not change at all, the other 2 return back to their original configuration after certain steps.\n",
    "\n",
    "Note: $r_{max}$ can be defined as:<br>\n",
    "- Given N live cells at positions  ($i$,$j$) \n",
    "- Calculate the population \"barycenter\" ($center_{i}$,$center_{j}$), where $center_{i} =\\frac{\\sum_{i}^{N} i }{N}$ and $center_{j} =\\frac{\\sum_{j}^{N} j }{N}$\n",
    "- Define the distance : $r_{i,j}= \\sqrt{(i-center_i)^2+(j-center_j)^2}$ \n",
    "- $r_{max}$ is the maximum of all the $r_{i,j}$ i.e the distance of the furthest cell from the \"barycenter\" of the population.\n",
    "    "
   ]
  },
  {
   "cell_type": "code",
   "execution_count": 3,
   "metadata": {
    "collapsed": false,
    "scrolled": true
   },
   "outputs": [
    {
     "data": {
      "image/png": "[encoded data removed]"
     },
     "metadata": {
      "image/png": {
       "height": 277,
       "width": 377
      }
     }
    },
    {
     "data": {
      "image/png": "[encoded data removed]"
     },
     "metadata": {
      "image/png": {
       "height": 277,
       "width": 384
      }
     }
    },
    {
     "name": "stdout",
     "output_type": "stream",
     "text": [
      "The period of Loaf does not change; the period of Pulsar is 4 and the period of Pentadecathlon is 16.\n"
     ]
    }
   ],
   "source": [
    "import math\n",
    "import numpy as np\n",
    "import matplotlib\n",
    "import matplotlib.pyplot as plt\n",
    "from itertools import product\n",
    "from scipy import signal\n",
    "import sys\n",
    "import time\n",
    "\n",
    "Loaf = np.loadtxt('data/Loaf.txt')      #Import configurations\n",
    "Pulsar = np.loadtxt('data/Pulsar.txt')\n",
    "Penta = np.loadtxt('data/Pentadecathlon.txt')\n",
    "\n",
    "def alive(array):        #Function to find number of alive cells in a configuration\n",
    "    N=(array==1).sum()\n",
    "    return N\n",
    "\n",
    "def rmax(array,N):        #Function to find rmax of a configuration\n",
    "    alive=np.stack(np.nonzero(array)).T\n",
    "    barycenter=((sum(alive[:,0])/N),(sum(alive[:,1])/N))\n",
    "    list_alive=[]\n",
    "    for i in alive:\n",
    "        rmax=np.sqrt(((i[0]-barycenter[0])**2)+((i[1]-barycenter[1])**2))\n",
    "        list_alive.append(rmax)\n",
    "    return max(list_alive,default=0)\n",
    "\n",
    "list_loaf=[Loaf]        #Creating lists with initial configurations and the corresponding values of rmax and alive\n",
    "list_pulsar=[Pulsar]\n",
    "list_penta=[Penta]\n",
    "list_rmax_loaf=[rmax(Loaf,alive(Loaf))]\n",
    "list_alive_loaf=[alive(Loaf)]\n",
    "list_rmax_pulsar=[rmax(Pulsar,alive(Pulsar))]\n",
    "list_alive_pulsar=[alive(Pulsar)]\n",
    "list_rmax_penta=[rmax(Penta,alive(Penta))]\n",
    "list_alive_penta=[alive(Penta)]\n",
    "\n",
    "def GOL2(array):                               #Function to evolve the configuration forward one tick in time\n",
    "    dummy=np.zeros(array.shape, dtype=int)                       #Create array of zeros with the same shape as the initial configuration\n",
    "    neighbours=sum(np.roll(np.roll(array,i,0),j,1) for i in (-1,0,1) for j in (-1,0,1) if (i!=0 or j!=0))  #np.roll creates an array of the sum of the adjacent\n",
    "    for i in range(array.shape[0]):                                                                        #values of all cells\n",
    "        for j in range(array.shape[1]):\n",
    "            if neighbours[i,j]==3:           #Conditions for the game, note since the dummy array is zeros, the conditions involving zeros do not need to be tested\n",
    "                dummy[i,j]=1\n",
    "            elif neighbours[i,j]==2 and array[i,j]==1:\n",
    "                dummy[i,j]=1\n",
    "    return dummy                             #Return the evolved configuration\n",
    "\n",
    "def evolve(List1,List2,List3,List11,List12,List21,List22,List31,List32,N):\n",
    "    for i in range(1,N):                          #Function to evolve the array using number of ticks and include values of rmax and alive, store values in lists\n",
    "        List1.append(GOL2(List1[i-1]))\n",
    "        List2.append(GOL2(List2[i-1]))\n",
    "        List3.append(GOL2(List3[i-1]))\n",
    "        List11.append(rmax((List1[i-1]),alive(List1[i-1])))\n",
    "        List12.append(alive(List1[i-1]))\n",
    "        List21.append(rmax((List2[i-1]),alive(List2[i-1])))\n",
    "        List22.append(alive(List2[i-1]))\n",
    "        List31.append(rmax((List3[i-1]),alive(List3[i-1])))\n",
    "        List32.append(alive(List3[i-1]))\n",
    "\n",
    "evolve(list_loaf,list_pulsar,list_penta,list_rmax_loaf,list_alive_loaf,list_rmax_pulsar,list_alive_pulsar,list_rmax_penta,list_alive_penta,45) #Evolve the config\n",
    "\n",
    "plt.plot(list_rmax_loaf,'r',label='Loaf')           #Plot the variance in rmax\n",
    "plt.plot(list_rmax_pulsar,'g',label='Pulsar')\n",
    "plt.plot(list_rmax_penta,'b',label='Pentadecathlon')\n",
    "plt.legend(loc='best')\n",
    "plt.title('Variance of Rmax with Time')\n",
    "plt.xlabel('Time Steps')\n",
    "plt.ylabel('Rmax')\n",
    "plt.show()\n",
    "\n",
    "plt.plot(list_alive_loaf,'r',label='Loaf')          #Plot the variance in loaf\n",
    "plt.plot(list_alive_pulsar,'g',label='Pulsar')\n",
    "plt.plot(list_alive_penta,'b',label='Pentadecathlon')\n",
    "plt.legend(loc='best')\n",
    "plt.title('Variance of Number of Alive Cells with Time')\n",
    "plt.xlabel('Time Steps')\n",
    "plt.ylabel('Number of Alive Cells')\n",
    "plt.show()\n",
    "\n",
    "print('The period of Loaf does not change; the period of Pulsar is 4 and the period of Pentadecathlon is 16.')"
   ]
  },
  {
   "cell_type": "markdown",
   "metadata": {
    "collapsed": false
   },
   "source": [
    "## 2a: Produce a random configuration:  [5 marks]\n",
    "\n",
    "For a 40x40 universe create a random configuration where :\n",
    "\n",
    "1. 5% of the 20x20 cells at its center are alive (i.e 20 random cells at the 20x20 center).\n",
    "2. 10% of the 20x20 cells at the center are alive (i.e 40 random cells at the 20x20 center).\n",
    "3. 20% of the 20x20 cells at the center are alive (i.e 80 random cells at the 20x20 center).\n",
    "\n",
    "Evolve it for N =100 steps.\n",
    "Plot the number of live cells and their $r_{max}$ as a function of time (number of steps). \n",
    "\n"
   ]
  },
  {
   "cell_type": "code",
   "execution_count": 4,
   "metadata": {
    "collapsed": false
   },
   "outputs": [
    {
     "name": "stderr",
     "output_type": "stream",
     "text": [
      "/ext/anaconda3/lib/python3.5/site-packages/ipykernel/__main__.py:20: RuntimeWarning: invalid value encountered in long_scalars\n"
     ]
    },
    {
     "data": {
      "image/png": "[encoded data removed]"
     },
     "metadata": {
      "image/png": {
       "height": 277,
       "width": 384
      }
     }
    },
    {
     "data": {
      "image/png": "[encoded data removed]"
     },
     "metadata": {
      "image/png": {
       "height": 277,
       "width": 390
      }
     }
    }
   ],
   "source": [
    "def pad_with(vector, pad_width, iaxis, kwargs):       #Function to define what value an array is padded by\n",
    "    pad_value = kwargs.get('padder', 0)\n",
    "    vector[:pad_width[0]] = pad_value\n",
    "    vector[-pad_width[1]:] = pad_value\n",
    "    return vector\n",
    "\n",
    "def Random(ndead):                 #Function to make a random 20x20 array with a set number of 1s and 0s, then pad it to make it 40x40\n",
    "    N=400 \n",
    "    array=np.array([0]*ndead + [1]*(N-ndead))\n",
    "    random=np.random.permutation(array)\n",
    "    random=random.reshape((20,20))\n",
    "    b=np.pad(random, 20, pad_with)\n",
    "    return b\n",
    "\n",
    "array5=Random(380)       #Make random configurations with 5%,10%,20% alive cells at center\n",
    "array10=Random(360)\n",
    "array20=Random(320)\n",
    "\n",
    "list_5=[array5]           #Lists of original configurations\n",
    "list_10=[array10]\n",
    "list_20=[array20]\n",
    "list_rmax_5=[rmax(array5,alive(array5))]\n",
    "list_alive_5=[alive(array5)]\n",
    "list_rmax_10=[rmax(array10,alive(array10))]\n",
    "list_alive_10=[alive(array10)]\n",
    "list_rmax_20=[rmax(array20,alive(array20))]\n",
    "list_alive_20=[alive(array20)]\n",
    "\n",
    "evolve(list_5,list_10,list_20,list_rmax_5,list_alive_5,list_rmax_10,list_alive_10,list_rmax_20,list_alive_20,100)    #Evolve configurations 100 steps\n",
    "\n",
    "plt.plot(list_rmax_5,'r',label='5% Alive')      #Plot graphs of rmax and number of alive cells w.r.t. time\n",
    "plt.plot(list_rmax_10,'g',label='10% Alive')\n",
    "plt.plot(list_rmax_20,'b',label='20% Alive')\n",
    "plt.legend(loc='best')\n",
    "plt.title('Variance of Rmax for the 40x40 Arrays')\n",
    "plt.xlabel('Time Steps')\n",
    "plt.ylabel('Rmax')\n",
    "plt.show()\n",
    "\n",
    "plt.plot(list_alive_5,'r',label='5% Alive')\n",
    "plt.plot(list_alive_10,'g',label='10% Alive')\n",
    "plt.plot(list_alive_20,'b',label='20% Alive')\n",
    "plt.legend(loc='best')\n",
    "plt.title('Variance of Number of Alive Cells for the 40x40 Arrays')\n",
    "plt.xlabel('Time Steps')\n",
    "plt.ylabel('Number of Alive Cells')\n",
    "plt.show()"
   ]
  },
  {
   "cell_type": "markdown",
   "metadata": {
    "collapsed": false
   },
   "source": [
    "## 3: Study of Random configurations:  [7 marks]\n",
    "\n",
    "For a 40x40 universe generate three ensembles of 1000 random configurations each for the following scenarios:\n",
    "\n",
    "1. 5% of the 20x20 cells at the center are alive (i.e 20 random cells at the 20x20 center).\n",
    "2. 10% of the 20x20 cells at the center are alive (i.e 40 random cells at the 20x20 center).\n",
    "3. 20% of the 20x20 cells at the center are alive (i.e 80 random cells at the 20x20 center).\n",
    "\n",
    "For each ensemble : Plot the mean and the RMS of the population magnitute (number of live cells) and of the population  $r_{max}$ for \n",
    "t=0,50,100,200 steps.\n",
    "\n"
   ]
  },
  {
   "cell_type": "code",
   "execution_count": 5,
   "metadata": {
    "collapsed": false
   },
   "outputs": [
    {
     "data": {
      "text/markdown": [
       "<font color='red'>**Jupyter Kernel terminated:**</font> This might be caused by running out of memory or hitting a bug in some library (e.g., forking too many processes, trying to access invalid memory, etc.). Consider restarting or upgrading your project or running the relevant code directly in a terminal to track down the cause, as [explained here](https://github.com/sagemathinc/cocalc/wiki/KernelTerminated)."
      ]
     },
     "execution_count": 5,
     "metadata": {
     },
     "output_type": "execute_result"
    }
   ],
   "source": [
    "e5,e10,e20=[],[],[] #Lists to contain the ensembles\n",
    "\n",
    "for i in range(0,1000):    #Add the random configurations to the lists to create the ensembles\n",
    "    a5=Random(380)\n",
    "    e5.append(a5)\n",
    "    a10=Random(360)\n",
    "    e10.append(a10)\n",
    "    a20=Random(320)\n",
    "    e20.append(a20)\n",
    "\n",
    "rmax_e5,rmax_e10,rmax_e20,alive_e5,alive_10,alive_20=[],[],[],[],[],[]  #Calculate rmax and alive cells for all of the initial configurations in the ensembles\n",
    "\n",
    "for i in range(len(e5)):\n",
    "    rmax_e5=[rmax((e5[i]),alive(e5[i]))]\n",
    "    rmax_e10=[rmax((e10[i]),alive(e10[i]))]\n",
    "    rmax_e20=[rmax((e20[i]),alive(e20[i]))]\n",
    "    alive_e5=[alive(e5[i])]\n",
    "    alive_e10=[alive(e10[i])]\n",
    "    alive_e20=[alive(e20[i])]\n",
    "\n",
    "evolve(e5,e10,e20,rmax_e5,alive_e5,rmax_e10,alive_e10,rmax_e20,alive_e20,200)    #Evolve the ensembles 200 time steps\n",
    "\n",
    "t=[0,50,100,200]       #Make lists for values of time and empty lists to add calculated mean and rms values to\n",
    "mean_e5_rmax,mean_e10_rmax,mean_e20_rmax,mean_e5_alive,mean_e10_alive,mean_e20_alive=[],[],[],[],[],[]\n",
    "rms_e5_rmax,rms_e10_rmax,rms_e20_rmax,rms_e5_alive,rms_e10_alive,rms_e20_alive=[],[],[],[],[],[]\n",
    "\n",
    "def Mean(List,N):            #Function to calculate mean of values in a list\n",
    "    Mean=((sum(List))/N)*5\n",
    "    return Mean\n",
    "\n",
    "def RMS(List,N):             #Function to calculate rms of values in a list\n",
    "    square=[]\n",
    "    for i in List:\n",
    "        square.append(i**2)\n",
    "    RMS=math.sqrt(((sum(square))/N)*5)\n",
    "    return RMS\n",
    "\n",
    "def append(List,NewList,NewList2):      #Function to calculate the mean and rms of list slices, sliced to correspond to the required time values\n",
    "    x1=Mean(List[0:1000],1000)\n",
    "    x2=Mean(List[0:50000],50000)\n",
    "    x3=Mean(List[0:100000],100000)\n",
    "    x4=Mean(List[0:200000],200000)\n",
    "    y1=RMS(List[0:1000],1000)\n",
    "    y2=RMS(List[0:50000],50000)\n",
    "    y3=RMS(List[0:100000],100000)\n",
    "    y4=RMS(List[0:200000],200000)\n",
    "    NewList.append(x1)\n",
    "    NewList.append(x2)\n",
    "    NewList.append(x3)\n",
    "    NewList.append(x4)\n",
    "    NewList2.append(y1)\n",
    "    NewList2.append(y2)\n",
    "    NewList2.append(y3)\n",
    "    NewList2.append(y4)\n",
    "\n",
    "append(rmax_e5,mean_e5_rmax,rms_e5_rmax)       #Function to add mean and rms values to the required lists\n",
    "append(rmax_e10,mean_e10_rmax,rms_e10_rmax)\n",
    "append(rmax_e20,mean_e20_rmax,rms_e20_rmax)\n",
    "append(alive_e5,mean_e5_alive,rms_e5_alive)\n",
    "append(alive_e10,mean_e10_alive,rms_e10_alive)\n",
    "append(alive_e20,mean_e20_alive,rms_e20_alive)\n",
    "\n",
    "plt.plot(t,mean_e5_rmax,'r',label='5% Alive')      #Plot the graphs required\n",
    "plt.plot(t,mean_e10_rmax,'g',label='10% Alive')\n",
    "plt.plot(t,mean_e20_rmax,'b',label='20% Alive')\n",
    "plt.title('Mean Rmax')\n",
    "plt.xlabel('Time Steps')\n",
    "plt.ylabel('Rmax')\n",
    "plt.show()\n",
    "\n",
    "plt.plot(t,mean_e5_alive,'r',label='5% Alive')\n",
    "plt.plot(t,mean_e10_alive,'g',label='10% Alive')\n",
    "plt.plot(t,mean_e20_alive,'b',label='20% Alive')\n",
    "plt.title('Mean Alive')\n",
    "plt.xlabel('Time Steps')\n",
    "plt.ylabel('Number of Alive Cells')\n",
    "plt.show()\n",
    "\n",
    "plt.plot(t,rms_e5_rmax,'r',label='5% Alive')\n",
    "plt.plot(t,rms_e10_rmax,'g',label='10% Alive')\n",
    "plt.plot(t,rms_e20_rmax,'b',label='20% Alive')\n",
    "plt.title('RMS Rmax')\n",
    "plt.xlabel('Time Steps')\n",
    "plt.ylabel('Rmax')\n",
    "plt.show()\n",
    "\n",
    "plt.plot(t,rms_e5_alive,'r',label='5% Alive')\n",
    "plt.plot(t,rms_e10_alive,'g',label='10% Alive')\n",
    "plt.plot(t,rms_e20_alive,'b',label='20% Alive')\n",
    "plt.title('RMS Alive')\n",
    "plt.xlabel('Time Steps')\n",
    "plt.ylabel('Number of Alive Cells')\n",
    "plt.show()"
   ]
  },
  {
   "cell_type": "markdown",
   "metadata": {
    "collapsed": false
   },
   "source": [
    "## 4: Game of life animations :  [5 marks]\n",
    "\n",
    "\n",
    "For the following patterns present in the data folder:\n",
    "- Glider (\"data/Glider.txt\") produces one figure for each of the first 15 steps of its evolution\n",
    "- GliderGun (\"data/GliderGun.txt\") produce an animation (~60 frames, one frame per time step)\n",
    "\n",
    "<img align=\"bottom\" src=\"GliderGun.gif\" HEIGHT=\"400\" WIDTH=\"400\"> "
   ]
  },
  {
   "cell_type": "code",
   "execution_count": 0,
   "metadata": {
    "collapsed": false,
    "scrolled": true
   },
   "outputs": [
    {
     "data": {
      "text/markdown": [
       "<font color='red'>**Jupyter Kernel terminated:**</font> This might be caused by running out of memory or hitting a bug in some library (e.g., forking too many processes, trying to access invalid memory, etc.). Consider restarting or upgrading your project or running the relevant code directly in a terminal to track down the cause, as [explained here](https://github.com/sagemathinc/cocalc/wiki/KernelTerminated)."
      ]
     },
     "execution_count": 0,
     "metadata": {
     },
     "output_type": "execute_result"
    }
   ],
   "source": [
    "import numpy as np\n",
    "import matplotlib.pyplot as plt\n",
    "import matplotlib.animation as animation\n",
    "from matplotlib import animation\n",
    "plt.rcParams[\"animation.html\"] = \"html5\"\n",
    "\n",
    "Glider = np.loadtxt('data/Glider.txt')     #Load in the configurations\n",
    "Gun = np.loadtxt('data/GliderGun.txt')\n",
    "\n",
    "list_glider=[Glider]     #Create lists to store initial configurations\n",
    "list_gun=[Gun]\n",
    "\n",
    "for i in range(1,60):                  #Evolve configurations forward in time\n",
    "    list_glider.append(GOL2(list_glider[i-1]))\n",
    "    list_gun.append(GOL2(list_gun[i-1]))\n",
    "\n",
    "def animate(List):       #Function to animate the list of configurations\n",
    "    fig=plt.figure()\n",
    "    ims=[]\n",
    "    for i in range(len(List)):\n",
    "        im=plt.imshow(List[i],cmap=plt.cm.binary,interpolation='nearest',animated=True)    #Turn arrays into images and add images to list\n",
    "        ims.append([im])\n",
    "    ani=animation.ArtistAnimation(fig,ims,interval=50,blit=True,repeat_delay=1000)\n",
    "    return ani\n",
    "\n",
    "ani1=animate(list_glider)   #Use functions to display the animations\n",
    "display(ani1)\n",
    "ani2=animate(list_gun)\n",
    "display(ani2)"
   ]
  },
  {
   "cell_type": "markdown",
   "metadata": {
    "collapsed": false
   },
   "source": [
    "## 5: HighLife [7 marks]\n",
    "\n",
    "Conway's Life is classified as following the $\\textbf{B}$3/$\\textbf{S}$23 rule.\n",
    "\n",
    "Specifically a cell:\n",
    "- is $\\textbf{B}$orn if it has exactly 3 neighbours\n",
    "- $\\textbf{S}$urvives if it has 2 or 3 living neighbours \n",
    "- it dies otherwise.\n",
    "\n",
    "Another member in the family of \"Life\" cellular automata is ``HighLife`` that follow the $\\textbf{B}$36/$\\textbf{S}$23 rule.\n",
    "\n",
    "A cell:\n",
    "- is $\\textbf{B}$orn if it has 3 or 6 neighbours\n",
    "- $\\textbf{S}$urvives if it has 2 or 3 living neighbours \n",
    "- it dies otherwise.\n",
    "\n",
    "\n",
    "Following the HighLife rules and  employing the Replicator pattern present in the data folder (\"data/Replicator.txt\").\n",
    "\n",
    "1. Evolve it for N=36\n",
    "2. Produce an animation of the above 36 frames showing the system evolution\n",
    "3. Plot the Number of cells versus time\n",
    "4. Plot the  $r_{max}$ as a function of time\n",
    "5. Can you see why it is called a \"Replicator\"?    "
   ]
  },
  {
   "cell_type": "code",
   "execution_count": 1,
   "metadata": {
    "collapsed": false,
    "scrolled": true
   },
   "outputs": [
    {
     "ename": "NameError",
     "evalue": "name 'np' is not defined",
     "output_type": "error",
     "traceback": [
      "\u001b[0;31m---------------------------------------------------------------------------\u001b[0m",
      "\u001b[0;31mNameError\u001b[0m                                 Traceback (most recent call last)",
      "\u001b[0;32m<ipython-input-1-0d4bd536802b>\u001b[0m in \u001b[0;36m<module>\u001b[0;34m()\u001b[0m\n\u001b[0;32m----> 1\u001b[0;31m \u001b[0mReplicator\u001b[0m \u001b[0;34m=\u001b[0m \u001b[0mnp\u001b[0m\u001b[0;34m.\u001b[0m\u001b[0mloadtxt\u001b[0m\u001b[0;34m(\u001b[0m\u001b[0;34m'data/Replicator.txt'\u001b[0m\u001b[0;34m)\u001b[0m   \u001b[0;31m#Load in replicator array\u001b[0m\u001b[0;34m\u001b[0m\u001b[0m\n\u001b[0m\u001b[1;32m      2\u001b[0m \u001b[0;34m\u001b[0m\u001b[0m\n\u001b[1;32m      3\u001b[0m \u001b[0;32mdef\u001b[0m \u001b[0mGOL3\u001b[0m\u001b[0;34m(\u001b[0m\u001b[0marray\u001b[0m\u001b[0;34m)\u001b[0m\u001b[0;34m:\u001b[0m          \u001b[0;31m#Function identical to GOL2 except for one change in the conditions\u001b[0m\u001b[0;34m\u001b[0m\u001b[0m\n\u001b[1;32m      4\u001b[0m     \u001b[0mdummy\u001b[0m\u001b[0;34m=\u001b[0m\u001b[0mnp\u001b[0m\u001b[0;34m.\u001b[0m\u001b[0mcopy\u001b[0m\u001b[0;34m(\u001b[0m\u001b[0marray\u001b[0m\u001b[0;34m)\u001b[0m\u001b[0;34m\u001b[0m\u001b[0m\n\u001b[1;32m      5\u001b[0m     \u001b[0mh\u001b[0m\u001b[0;34m,\u001b[0m\u001b[0mw\u001b[0m\u001b[0;34m=\u001b[0m\u001b[0mnp\u001b[0m\u001b[0;34m.\u001b[0m\u001b[0mshape\u001b[0m\u001b[0;34m(\u001b[0m\u001b[0marray\u001b[0m\u001b[0;34m)\u001b[0m\u001b[0;34m[\u001b[0m\u001b[0;36m0\u001b[0m\u001b[0;34m]\u001b[0m\u001b[0;34m-\u001b[0m\u001b[0;36m1\u001b[0m\u001b[0;34m,\u001b[0m\u001b[0mnp\u001b[0m\u001b[0;34m.\u001b[0m\u001b[0mshape\u001b[0m\u001b[0;34m(\u001b[0m\u001b[0marray\u001b[0m\u001b[0;34m)\u001b[0m\u001b[0;34m[\u001b[0m\u001b[0;36m1\u001b[0m\u001b[0;34m]\u001b[0m\u001b[0;34m-\u001b[0m\u001b[0;36m1\u001b[0m\u001b[0;34m\u001b[0m\u001b[0m\n",
      "\u001b[0;31mNameError\u001b[0m: name 'np' is not defined"
     ]
    }
   ],
   "source": [
    "Replicator = np.loadtxt('data/Replicator.txt')   #Load in replicator array\n",
    "\n",
    "def GOL3(array):          #Function identical to GOL2 except for one change in the conditions\n",
    "    dummy=np.copy(array)\n",
    "    h,w=np.shape(array)[0]-1,np.shape(array)[1]-1\n",
    "    for i in range(1,h):\n",
    "        for j in range(1,w):\n",
    "            neighbours=array[i-1,j-1]+array[i,j-1]+array[i+1,j-1]+array[i-1,j]+array[i+1,j]+array[i-1,j+1]+array[i,j+1]+array[i+1,j+1]\n",
    "            if neighbours not in [2,3]:\n",
    "                dummy[i,j]=0\n",
    "            elif (neighbours in [3,6] and array[i,j]==0):     #Because a cell becomes alive if it has 3 or 6 neighbours now, '!=3' changes to 'in [3,6]'\n",
    "                dummy[i,j]=0\n",
    "            else:\n",
    "                dummy[i,j]=1\n",
    "    return dummy\n",
    "\n",
    "list_rep=[Replicator]                                 #Lists containing initial configurations of the array\n",
    "list_rep_rmax=[rmax(Replicator,alive(Replicator))]\n",
    "list_rep_alive=[alive(Replicator)]\n",
    "\n",
    "for i in range(1,37):                            #Evolve the configuration 36 steps in time\n",
    "    list_rep.append(GOL3(list_rep[i-1]))\n",
    "    list_rep_rmax.append(rmax((list_rep[i-1]),alive(list_rep[i-1])))\n",
    "    list_rep_alive.append(alive(list_rep[i-1]))\n",
    "\n",
    "plt.plot(list_rep_rmax,'r',label='Replicator')      #Plot how rms and no. of alive cells vary with time\n",
    "plt.legend()\n",
    "plt.xlabel('Time Steps')\n",
    "plt.ylabel('Rmax')\n",
    "plt.title('Rmax for Replicator Configuration')\n",
    "plt.show()\n",
    "\n",
    "plt.plot(list_rep_alive,'r',label='Replicator')\n",
    "plt.legend()\n",
    "plt.xlabel('Time Steps')\n",
    "plt.ylabel('Number of Alive Cells')\n",
    "plt.title('Number of Alive Cells for Replicator Configuration')\n",
    "plt.show()"
   ]
  },
  {
   "cell_type": "code",
   "execution_count": 0,
   "metadata": {
    "collapsed": false,
    "scrolled": true
   },
   "outputs": [
   ],
   "source": [
    "ani3=animate(list_rep)     #Animate the replicator configuration\n",
    "display(ani3)\n",
    "\n",
    "print('Called a replicator because the configuration expands to fill the universe.')"
   ]
  },
  {
   "cell_type": "markdown",
   "metadata": {
    "collapsed": false
   },
   "source": [
    "## Previous GOL2 function before optimisation using np.roll"
   ]
  },
  {
   "cell_type": "code",
   "execution_count": 0,
   "metadata": {
    "collapsed": false
   },
   "outputs": [
   ],
   "source": [
    "def GOLX(array):                               #Function to evolve the configuration forward one tick in time\n",
    "    dummy=np.copy(array)                       #Create copy of configuration to evolve\n",
    "    h,w=np.shape(array)[0]-1,np.shape(array)[1]-1    #Define height and width of the configuration with -1 to account for edges of configuration\n",
    "    for i in range(1,h):\n",
    "        for j in range(1,w):\n",
    "            neighbours=array[i-1,j-1]+array[i,j-1]+array[i+1,j-1]+array[i-1,j]+array[i+1,j]+array[i-1,j+1]+array[i,j+1]+array[i+1,j+1]  #Nearest neighbours of a cell\n",
    "            if neighbours not in [2,3]:           #Conditions for the game\n",
    "                dummy[i,j]=0\n",
    "            elif (neighbours!=3 and array[i,j]==0):\n",
    "                dummy[i,j]=0\n",
    "            else:\n",
    "                dummy[i,j]=1\n",
    "    return dummy     #Return the evolved configuration"
   ]
  },
  {
   "cell_type": "code",
   "execution_count": 0,
   "metadata": {
    "collapsed": false
   },
   "outputs": [
   ],
   "source": [
   ]
  }
 ],
 "metadata": {
  "kernelspec": {
   "display_name": "Python 3 (Anaconda)",
   "language": "python",
   "name": "anaconda3"
  },
  "language_info": {
   "codemirror_mode": {
    "name": "ipython",
    "version": 3
   },
   "file_extension": ".py",
   "mimetype": "text/x-python",
   "name": "python",
   "nbconvert_exporter": "python",
   "pygments_lexer": "ipython3",
   "version": "3.5.5"
  }
 },
 "nbformat": 4,
 "nbformat_minor": 0
}